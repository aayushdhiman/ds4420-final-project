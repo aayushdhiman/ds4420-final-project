{
 "cells": [
  {
   "cell_type": "markdown",
   "metadata": {},
   "source": [
    "Dhruv Gandhi and Aayush Dhiman"
   ]
  },
  {
   "cell_type": "code",
   "execution_count": 1,
   "metadata": {},
   "outputs": [],
   "source": [
    "# https://forums.trakt.tv/t/id-like-an-honest-opinion-which-rating-system-you-trust/1779/2"
   ]
  },
  {
   "cell_type": "code",
   "execution_count": 2,
   "metadata": {},
   "outputs": [],
   "source": [
    "# /search/trakt/:id?id_type=movie"
   ]
  },
  {
   "cell_type": "code",
   "execution_count": 1,
   "metadata": {},
   "outputs": [],
   "source": [
    "import src.obtain_data"
   ]
  },
  {
   "cell_type": "code",
   "execution_count": null,
   "metadata": {},
   "outputs": [
    {
     "name": "stdout",
     "output_type": "stream",
     "text": [
      "Fetched 500 trending movies in 4.15 seconds.\n",
      "Movie certifications and poster URLs fetched/stored successfully in 34.04 seconds.\n",
      "Movie posters stored successfully in 34.06 seconds.\n",
      "Fetched usernames of watchers for 500 movies in 79.94 seconds.\n",
      "Fetched movie ratings for 570 users in 144.53 seconds.\n"
     ]
    }
   ],
   "source": [
    "src.obtain_data.main(50)"
   ]
  },
  {
   "cell_type": "code",
   "execution_count": 2,
   "metadata": {},
   "outputs": [
    {
     "name": "stdout",
     "output_type": "stream",
     "text": [
      "\u001b[0m\n",
      "\u001b[34m\u001b[1m  You can now view your Streamlit app in your browser.\u001b[0m\n",
      "\u001b[0m\n",
      "\u001b[34m  Local URL: \u001b[0m\u001b[1mhttp://localhost:8501\u001b[0m\n",
      "\u001b[34m  Network URL: \u001b[0m\u001b[1mhttp://10.110.135.169:8501\u001b[0m\n",
      "\u001b[0m\n",
      "2025-04-09 02:36:47.704 Please replace `st.experimental_get_query_params` with `st.query_params`.\n",
      "\n",
      "`st.experimental_get_query_params` will be removed after 2024-04-11.\n",
      "\n",
      "Refer to our [docs page](https://docs.streamlit.io/develop/api-reference/caching-and-state/st.query_params) for more information.\n",
      "2025-04-09 02:36:49.901 Please replace `st.experimental_set_query_params` with `st.query_params`.\n",
      "\n",
      "`st.experimental_set_query_params` will be removed after 2024-04-11.\n",
      "\n",
      "Refer to our [docs page](https://docs.streamlit.io/develop/api-reference/caching-and-state/st.query_params) for more information.\n",
      "2025-04-09 02:36:49.901 Please replace `st.experimental_get_query_params` with `st.query_params`.\n",
      "\n",
      "`st.experimental_get_query_params` will be removed after 2024-04-11.\n",
      "\n",
      "Refer to our [docs page](https://docs.streamlit.io/develop/api-reference/caching-and-state/st.query_params) for more information.\n",
      "2025-04-09 02:36:52.197 Please replace `st.experimental_get_query_params` with `st.query_params`.\n",
      "\n",
      "`st.experimental_get_query_params` will be removed after 2024-04-11.\n",
      "\n",
      "Refer to our [docs page](https://docs.streamlit.io/develop/api-reference/caching-and-state/st.query_params) for more information.\n",
      "2025-04-09 02:36:52.588 Please replace `st.experimental_get_query_params` with `st.query_params`.\n",
      "\n",
      "`st.experimental_get_query_params` will be removed after 2024-04-11.\n",
      "\n",
      "Refer to our [docs page](https://docs.streamlit.io/develop/api-reference/caching-and-state/st.query_params) for more information.\n",
      "2025-04-09 02:36:54.791 Please replace `st.experimental_get_query_params` with `st.query_params`.\n",
      "\n",
      "`st.experimental_get_query_params` will be removed after 2024-04-11.\n",
      "\n",
      "Refer to our [docs page](https://docs.streamlit.io/develop/api-reference/caching-and-state/st.query_params) for more information.\n",
      "2025-04-09 02:38:10.811 Please replace `st.experimental_get_query_params` with `st.query_params`.\n",
      "\n",
      "`st.experimental_get_query_params` will be removed after 2024-04-11.\n",
      "\n",
      "Refer to our [docs page](https://docs.streamlit.io/develop/api-reference/caching-and-state/st.query_params) for more information.\n",
      "2025-04-09 02:38:13.063 Please replace `st.experimental_get_query_params` with `st.query_params`.\n",
      "\n",
      "`st.experimental_get_query_params` will be removed after 2024-04-11.\n",
      "\n",
      "Refer to our [docs page](https://docs.streamlit.io/develop/api-reference/caching-and-state/st.query_params) for more information.\n",
      "2025-04-09 02:38:14.794 Please replace `st.experimental_set_query_params` with `st.query_params`.\n",
      "\n",
      "`st.experimental_set_query_params` will be removed after 2024-04-11.\n",
      "\n",
      "Refer to our [docs page](https://docs.streamlit.io/develop/api-reference/caching-and-state/st.query_params) for more information.\n",
      "2025-04-09 02:38:14.794 Please replace `st.experimental_get_query_params` with `st.query_params`.\n",
      "\n",
      "`st.experimental_get_query_params` will be removed after 2024-04-11.\n",
      "\n",
      "Refer to our [docs page](https://docs.streamlit.io/develop/api-reference/caching-and-state/st.query_params) for more information.\n",
      "2025-04-09 02:38:17.888 Please replace `st.experimental_get_query_params` with `st.query_params`.\n",
      "\n",
      "`st.experimental_get_query_params` will be removed after 2024-04-11.\n",
      "\n",
      "Refer to our [docs page](https://docs.streamlit.io/develop/api-reference/caching-and-state/st.query_params) for more information.\n",
      "2025-04-09 02:38:20.254 Please replace `st.experimental_get_query_params` with `st.query_params`.\n",
      "\n",
      "`st.experimental_get_query_params` will be removed after 2024-04-11.\n",
      "\n",
      "Refer to our [docs page](https://docs.streamlit.io/develop/api-reference/caching-and-state/st.query_params) for more information.\n",
      "^C\n"
     ]
    }
   ],
   "source": [
    "!streamlit run src/deploy_streamlit.py"
   ]
  },
  {
   "cell_type": "code",
   "execution_count": null,
   "metadata": {},
   "outputs": [],
   "source": []
  }
 ],
 "metadata": {
  "kernelspec": {
   "display_name": "class_files",
   "language": "python",
   "name": "python3"
  },
  "language_info": {
   "codemirror_mode": {
    "name": "ipython",
    "version": 3
   },
   "file_extension": ".py",
   "mimetype": "text/x-python",
   "name": "python",
   "nbconvert_exporter": "python",
   "pygments_lexer": "ipython3",
   "version": "3.8.20"
  }
 },
 "nbformat": 4,
 "nbformat_minor": 2
}
